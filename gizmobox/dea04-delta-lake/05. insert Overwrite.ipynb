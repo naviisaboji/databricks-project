{
 "cells": [
  {
   "cell_type": "code",
   "execution_count": 0,
   "metadata": {
    "application/vnd.databricks.v1+cell": {
     "cellMetadata": {
      "byteLimit": 2048000,
      "implicitDf": true,
      "rowLimit": 10000
     },
     "inputWidgets": {},
     "nuid": "6d8549fc-0cd6-4ea2-8845-17406f0564a4",
     "showTitle": false,
     "tableResultSettingsMap": {},
     "title": ""
    }
   },
   "outputs": [],
   "source": [
    "%sql\n",
    "\n",
    "DROP TABLE IF EXISTS demo.delta_lake.gold_companies;\n",
    "CREATE TABLE demo.delta_lake.gold_companies\n",
    "(\n",
    "  company_name STRING,\n",
    "  founded_date DATE,\n",
    "  country STRING\n",
    ");\n",
    "\n",
    "INSERT INTO demo.delta_lake.gold_companies \n",
    "(company_name,founded_date,country)\n",
    "VALUES ('Apple', '1976-04-01', 'USA'),\n",
    "      ('Tencent','1998-11-11','China');\n",
    "select * from demo.delta_lake.gold_companies"
   ]
  },
  {
   "cell_type": "code",
   "execution_count": 0,
   "metadata": {
    "application/vnd.databricks.v1+cell": {
     "cellMetadata": {
      "byteLimit": 2048000,
      "implicitDf": true,
      "rowLimit": 10000
     },
     "inputWidgets": {},
     "nuid": "7fe73027-9b04-486a-9d16-bb88f705afcc",
     "showTitle": false,
     "tableResultSettingsMap": {},
     "title": ""
    }
   },
   "outputs": [],
   "source": [
    "%sql\n",
    "DROP TABLE IF EXISTS demo.delta_lake.bronze_companies;\n",
    "CREATE TABLE demo.delta_lake.bronze_companies\n",
    "(\n",
    "    company_name STRING,\n",
    "  founded_date DATE,\n",
    "  country STRING\n",
    ");\n",
    "\n",
    "INSERT INTO demo.delta_lake.bronze_companies\n",
    "(company_name,founded_date,country)\n",
    "VALUES ('Microsoft', '1975-04-01', 'USA'),\n",
    "      ('Alibaba','1999-01-01','China'),\n",
    "      ('Amazon','1994-05-01','USA'),\n",
    "      ('Google', '1998-09-04', 'USA');\n",
    "select * from demo.delta_lake.bronze_companies"
   ]
  },
  {
   "cell_type": "code",
   "execution_count": 0,
   "metadata": {
    "application/vnd.databricks.v1+cell": {
     "cellMetadata": {
      "byteLimit": 2048000,
      "implicitDf": true,
      "rowLimit": 10000
     },
     "inputWidgets": {},
     "nuid": "f5c33b7e-70b9-4e46-89ab-15429be25878",
     "showTitle": false,
     "tableResultSettingsMap": {},
     "title": ""
    }
   },
   "outputs": [],
   "source": [
    "%sql\n",
    "INSERT OVERWRITE TABLE demo.delta_lake.gold_companies\n",
    "SELECT * FROM demo.delta_lake.bronze_companies"
   ]
  },
  {
   "cell_type": "code",
   "execution_count": 0,
   "metadata": {
    "application/vnd.databricks.v1+cell": {
     "cellMetadata": {
      "byteLimit": 2048000,
      "implicitDf": true,
      "rowLimit": 10000
     },
     "inputWidgets": {},
     "nuid": "f8f14d77-dbf4-4b6a-8f76-239a2ef8ef90",
     "showTitle": false,
     "tableResultSettingsMap": {},
     "title": ""
    }
   },
   "outputs": [],
   "source": [
    "%sql\n",
    "select * from demo.delta_lake.gold_companies"
   ]
  },
  {
   "cell_type": "code",
   "execution_count": 0,
   "metadata": {
    "application/vnd.databricks.v1+cell": {
     "cellMetadata": {
      "byteLimit": 2048000,
      "implicitDf": true,
      "rowLimit": 10000
     },
     "inputWidgets": {},
     "nuid": "3a3e45cd-0ad0-4d67-9fd0-0a971f815292",
     "showTitle": false,
     "tableResultSettingsMap": {},
     "title": ""
    }
   },
   "outputs": [],
   "source": [
    "%sql\n",
    "desc history demo.delta_lake.gold_companies"
   ]
  },
  {
   "cell_type": "code",
   "execution_count": 0,
   "metadata": {
    "application/vnd.databricks.v1+cell": {
     "cellMetadata": {
      "byteLimit": 2048000,
      "implicitDf": true,
      "rowLimit": 10000
     },
     "inputWidgets": {},
     "nuid": "3fe80629-f5c0-4c44-9d2d-bc7cdde63012",
     "showTitle": false,
     "tableResultSettingsMap": {},
     "title": ""
    }
   },
   "outputs": [],
   "source": [
    "%sql\n",
    "\n",
    "DROP TABLE IF EXISTS demo.delta_lake.gold_companies_partitioned;\n",
    "CREATE TABLE demo.delta_lake.gold_companies_partitioned\n",
    "(\n",
    "  company_name STRING,\n",
    "  founded_date DATE,\n",
    "  country STRING)\n",
    "  PARTITIONED BY (country)\n",
    ";\n",
    "\n",
    "INSERT INTO demo.delta_lake.gold_companies_partitioned \n",
    "(company_name,founded_date,country)\n",
    "VALUES ('Apple', '1976-04-01', 'USA'),\n",
    "      ('Tencent','1998-11-11','China');\n",
    "select * from demo.delta_lake.gold_companies_partitioned"
   ]
  },
  {
   "cell_type": "code",
   "execution_count": 0,
   "metadata": {
    "application/vnd.databricks.v1+cell": {
     "cellMetadata": {
      "byteLimit": 2048000,
      "implicitDf": true,
      "rowLimit": 10000
     },
     "inputWidgets": {},
     "nuid": "7c6f0318-0795-4af3-8987-dcfc68862af2",
     "showTitle": false,
     "tableResultSettingsMap": {},
     "title": ""
    }
   },
   "outputs": [],
   "source": [
    "%sql\n",
    "DESC EXTENDED demo.delta_lake.gold_companies_partitioned;"
   ]
  },
  {
   "cell_type": "code",
   "execution_count": 0,
   "metadata": {
    "application/vnd.databricks.v1+cell": {
     "cellMetadata": {
      "byteLimit": 2048000,
      "implicitDf": true,
      "rowLimit": 10000
     },
     "inputWidgets": {},
     "nuid": "c7c640f6-9943-4157-bb66-105de6921657",
     "showTitle": false,
     "tableResultSettingsMap": {},
     "title": ""
    }
   },
   "outputs": [],
   "source": [
    "%sql\n",
    "DROP TABLE IF EXISTS demo.delta_lake.bronze_companies_usa;\n",
    "CREATE TABLE demo.delta_lake.bronze_companies_usa\n",
    "(\n",
    "    company_name STRING,\n",
    "  founded_date DATE,\n",
    "  country STRING\n",
    ");\n",
    "\n",
    "INSERT INTO demo.delta_lake.bronze_companies_usa\n",
    "(company_name,founded_date,country)\n",
    "VALUES ('Microsoft', '1975-04-01', 'USA'),\n",
    "      ('Amazon','1994-05-01','USA'),\n",
    "      ('Google', '1998-09-04', 'USA'),\n",
    "      ('Adobe', '1982-04-08','USA'),\n",
    "      ('Salesforce','2000-02-06','USA'),\n",
    "      ('Paypal','2002-01-01','USA');\n",
    "select * from demo.delta_lake.bronze_companies_usa"
   ]
  },
  {
   "cell_type": "code",
   "execution_count": 0,
   "metadata": {
    "application/vnd.databricks.v1+cell": {
     "cellMetadata": {
      "byteLimit": 2048000,
      "implicitDf": true,
      "rowLimit": 10000
     },
     "inputWidgets": {},
     "nuid": "d0f095dd-fe77-4865-887d-27e681354426",
     "showTitle": false,
     "tableResultSettingsMap": {},
     "title": ""
    }
   },
   "outputs": [],
   "source": [
    "%sql\n",
    "INSERT OVERWRITE TABLE demo.delta_lake.gold_companies_partitioned \n",
    "PARTITION (country='USA')\n",
    " SELECT company_name,founded_date FROM demo.delta_lake.bronze_companies_usa;\n",
    "select * from demo.delta_lake.gold_companies_partitioned"
   ]
  }
 ],
 "metadata": {
  "application/vnd.databricks.v1+notebook": {
   "computePreferences": null,
   "dashboards": [],
   "environmentMetadata": {
    "base_environment": "",
    "environment_version": "2"
   },
   "inputWidgetPreferences": null,
   "language": "python",
   "notebookMetadata": {
    "mostRecentlyExecutedCommandWithImplicitDF": {
     "commandId": 4656692228446823,
     "dataframes": [
      "_sqldf"
     ]
    },
    "pythonIndentUnit": 4
   },
   "notebookName": "05. insert Overwrite",
   "widgets": {}
  },
  "language_info": {
   "name": "python"
  }
 },
 "nbformat": 4,
 "nbformat_minor": 0
}
