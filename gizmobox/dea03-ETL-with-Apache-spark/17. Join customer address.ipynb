{
 "cells": [
  {
   "cell_type": "code",
   "execution_count": 0,
   "metadata": {
    "application/vnd.databricks.v1+cell": {
     "cellMetadata": {
      "byteLimit": 2048000,
      "implicitDf": true,
      "rowLimit": 10000
     },
     "inputWidgets": {},
     "nuid": "9a244d1d-dd89-4b51-b311-abc5febe7a8f",
     "showTitle": false,
     "tableResultSettingsMap": {},
     "title": ""
    }
   },
   "outputs": [],
   "source": [
    "%sql\n",
    "select *\n",
    " from \n",
    "gizmobox.silver.customers as cus\n",
    "inner join gizmobox.silver.addresses as adr \n",
    "on adr.customer_id = cus.customer_id;"
   ]
  },
  {
   "cell_type": "code",
   "execution_count": 0,
   "metadata": {
    "application/vnd.databricks.v1+cell": {
     "cellMetadata": {
      "byteLimit": 2048000,
      "implicitDf": true,
      "rowLimit": 10000
     },
     "inputWidgets": {},
     "nuid": "57b9a1c9-f1aa-4337-94e5-67efbf2d7062",
     "showTitle": false,
     "tableResultSettingsMap": {},
     "title": ""
    }
   },
   "outputs": [],
   "source": [
    "%sql\n",
    "CREATE TABLE IF NOT EXISTS gizmobox.gold.customer_address\n",
    "AS\n",
    "select c.customer_id,\n",
    "c.customer_name,\n",
    "c.email,\n",
    "c.date_of_birth,\n",
    "c.member_since,\n",
    "c.telephone, \n",
    "a.billing_address_line_1,\n",
    "a.billing_city,\n",
    "a.billing_state,\n",
    "a.billing_postcode,\n",
    "a.shipping_address_line_1,\n",
    "a.shipping_city,\n",
    "a.shipping_state,\n",
    "a.shipping_postcode\n",
    " from \n",
    "gizmobox.silver.customers as c\n",
    "inner join gizmobox.silver.addresses as a\n",
    "on a.customer_id = c.customer_id;"
   ]
  },
  {
   "cell_type": "code",
   "execution_count": 0,
   "metadata": {
    "application/vnd.databricks.v1+cell": {
     "cellMetadata": {
      "byteLimit": 2048000,
      "implicitDf": true,
      "rowLimit": 10000
     },
     "inputWidgets": {},
     "nuid": "eebf74e5-cff5-4b5c-9421-f3a1b2013cf2",
     "showTitle": false,
     "tableResultSettingsMap": {},
     "title": ""
    }
   },
   "outputs": [],
   "source": [
    "%sql\n",
    "select * from gizmobox.gold.customer_address limit 10"
   ]
  }
 ],
 "metadata": {
  "application/vnd.databricks.v1+notebook": {
   "computePreferences": {
    "hardware": {
     "accelerator": null,
     "gpuPoolId": null,
     "memory": null
    }
   },
   "dashboards": [],
   "environmentMetadata": {
    "base_environment": "",
    "environment_version": "2"
   },
   "inputWidgetPreferences": null,
   "language": "python",
   "notebookMetadata": {
    "mostRecentlyExecutedCommandWithImplicitDF": {
     "commandId": 7425423460382682,
     "dataframes": [
      "_sqldf"
     ]
    },
    "pythonIndentUnit": 4
   },
   "notebookName": "17. Join customer address",
   "widgets": {}
  },
  "language_info": {
   "name": "python"
  }
 },
 "nbformat": 4,
 "nbformat_minor": 0
}
