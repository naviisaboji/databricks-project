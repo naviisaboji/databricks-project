{
 "cells": [
  {
   "cell_type": "code",
   "execution_count": 0,
   "metadata": {
    "application/vnd.databricks.v1+cell": {
     "cellMetadata": {
      "byteLimit": 2048000,
      "implicitDf": true,
      "rowLimit": 10000
     },
     "inputWidgets": {},
     "nuid": "9a244d1d-dd89-4b51-b311-abc5febe7a8f",
     "showTitle": false,
     "tableResultSettingsMap": {},
     "title": ""
    }
   },
   "outputs": [],
   "source": [
    "%sql\n",
    "select json_value.order_id,\n",
    "json_value.order_status,\n",
    "json_value.payment_method,\n",
    "json_value.total_amount,\n",
    "json_value.transaction_timestamp,\n",
    "json_value.customer_id,\n",
    "json_value.items\n",
    " from \n",
    "gizmobox.silver.orders_json ;"
   ]
  },
  {
   "cell_type": "code",
   "execution_count": 0,
   "metadata": {
    "application/vnd.databricks.v1+cell": {
     "cellMetadata": {
      "byteLimit": 2048000,
      "implicitDf": true,
      "rowLimit": 10000
     },
     "inputWidgets": {},
     "nuid": "02b938d7-d40f-47a7-8b75-748c4777def7",
     "showTitle": false,
     "tableResultSettingsMap": {},
     "title": ""
    }
   },
   "outputs": [],
   "source": [
    "%sql\n",
    "select json_value.order_id,\n",
    "json_value.order_status,\n",
    "json_value.payment_method,\n",
    "json_value.total_amount,\n",
    "json_value.transaction_timestamp,\n",
    "json_value.customer_id,\n",
    "array_distinct(json_value.items)\n",
    " from \n",
    "gizmobox.silver.orders_json  limit 1;"
   ]
  },
  {
   "cell_type": "code",
   "execution_count": 0,
   "metadata": {
    "application/vnd.databricks.v1+cell": {
     "cellMetadata": {
      "byteLimit": 2048000,
      "implicitDf": true,
      "rowLimit": 10000
     },
     "inputWidgets": {},
     "nuid": "e394ac33-769c-44c1-9ff9-9420e049f96d",
     "showTitle": false,
     "tableResultSettingsMap": {},
     "title": ""
    }
   },
   "outputs": [],
   "source": [
    "%sql\n",
    "select json_value.order_id,\n",
    "json_value.order_status,\n",
    "json_value.payment_method,\n",
    "json_value.total_amount,\n",
    "json_value.transaction_timestamp,\n",
    "json_value.customer_id,\n",
    "explode(array_distinct(json_value.items) )\n",
    " from \n",
    "gizmobox.silver.orders_json  limit 10"
   ]
  },
  {
   "cell_type": "code",
   "execution_count": 0,
   "metadata": {
    "application/vnd.databricks.v1+cell": {
     "cellMetadata": {
      "byteLimit": 2048000,
      "implicitDf": true,
      "rowLimit": 10000
     },
     "inputWidgets": {},
     "nuid": "73ea4470-6f87-4504-8f44-a9d0c9b94f49",
     "showTitle": false,
     "tableResultSettingsMap": {},
     "title": ""
    }
   },
   "outputs": [],
   "source": [
    "%sql\n",
    "CREATE OR REPLACE TEMP VIEW tv_orders_exploded AS\n",
    "select json_value.order_id,\n",
    "json_value.order_status,\n",
    "json_value.payment_method,\n",
    "json_value.total_amount,\n",
    "json_value.transaction_timestamp,\n",
    "json_value.customer_id,\n",
    "explode(array_distinct(json_value.items) ) as item\n",
    " from \n",
    "gizmobox.silver.orders_json  ;"
   ]
  },
  {
   "cell_type": "code",
   "execution_count": 0,
   "metadata": {
    "application/vnd.databricks.v1+cell": {
     "cellMetadata": {
      "byteLimit": 2048000,
      "implicitDf": true,
      "rowLimit": 10000
     },
     "inputWidgets": {},
     "nuid": "c181d4ca-a377-4fbe-ac33-e177f885fba6",
     "showTitle": false,
     "tableResultSettingsMap": {},
     "title": ""
    }
   },
   "outputs": [],
   "source": [
    "%sql\n",
    "select order_id,order_status,payment_method,total_amount,transaction_timestamp,customer_id, \n",
    "item.item_id,item.name,\n",
    "item.price,\n",
    "item.quantity,\n",
    "item.category,\n",
    "item.details.brand,\n",
    "item.details.color\n",
    "\n",
    "from tv_orders_exploded limit 10"
   ]
  },
  {
   "cell_type": "code",
   "execution_count": 0,
   "metadata": {
    "application/vnd.databricks.v1+cell": {
     "cellMetadata": {
      "byteLimit": 2048000,
      "implicitDf": true,
      "rowLimit": 10000
     },
     "inputWidgets": {},
     "nuid": "a3d6e87c-b571-4891-8bdc-ba6a566b0c4f",
     "showTitle": false,
     "tableResultSettingsMap": {},
     "title": ""
    }
   },
   "outputs": [],
   "source": [
    "%sql\n",
    "CREATE TABLE IF NOT EXISTS gizmobox.silver.orders\n",
    "AS\n",
    "select order_id,order_status,payment_method,total_amount,transaction_timestamp,customer_id, \n",
    "item.item_id,item.name,\n",
    "item.price,\n",
    "item.quantity,\n",
    "item.category,\n",
    "item.details.brand,\n",
    "item.details.color\n",
    "\n",
    "from tv_orders_exploded;"
   ]
  },
  {
   "cell_type": "code",
   "execution_count": 0,
   "metadata": {
    "application/vnd.databricks.v1+cell": {
     "cellMetadata": {
      "byteLimit": 2048000,
      "implicitDf": true,
      "rowLimit": 10000
     },
     "inputWidgets": {},
     "nuid": "acb77827-8a3b-40a6-ba5e-d324f3a9b1cd",
     "showTitle": false,
     "tableResultSettingsMap": {},
     "title": ""
    }
   },
   "outputs": [],
   "source": [
    "%sql\n",
    "select * from gizmobox.silver.orders"
   ]
  }
 ],
 "metadata": {
  "application/vnd.databricks.v1+notebook": {
   "computePreferences": {
    "hardware": {
     "accelerator": null,
     "gpuPoolId": null,
     "memory": null
    }
   },
   "dashboards": [],
   "environmentMetadata": {
    "base_environment": "",
    "environment_version": "2"
   },
   "inputWidgetPreferences": null,
   "language": "python",
   "notebookMetadata": {
    "mostRecentlyExecutedCommandWithImplicitDF": {
     "commandId": 7425423460382680,
     "dataframes": [
      "_sqldf"
     ]
    },
    "pythonIndentUnit": 4
   },
   "notebookName": "16. Transform-Orders data-Explode Arrays",
   "widgets": {}
  },
  "language_info": {
   "name": "python"
  }
 },
 "nbformat": 4,
 "nbformat_minor": 0
}
