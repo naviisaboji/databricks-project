{
 "cells": [
  {
   "cell_type": "code",
   "execution_count": 0,
   "metadata": {
    "application/vnd.databricks.v1+cell": {
     "cellMetadata": {
      "byteLimit": 2048000,
      "implicitDf": true,
      "rowLimit": 10000
     },
     "inputWidgets": {},
     "nuid": "9a244d1d-dd89-4b51-b311-abc5febe7a8f",
     "showTitle": false,
     "tableResultSettingsMap": {},
     "title": ""
    }
   },
   "outputs": [],
   "source": [
    "%sql\n",
    "\n",
    "select distinct created_timestamp as timestamp,\n",
    "customer_id,\n",
    "customer_name,\n",
    "date_of_birth::DATE as date_of_birth,\n",
    "email,\n",
    "member_since::DATE as member_since,\n",
    "telephone\n",
    " from \n",
    "(\n",
    "select *,rank() over(partition by customer_id order by created_timestamp desc) as rnk from \n",
    "gizmobox.bronze.v_customers\n",
    "where customer_id is not null\n",
    ") src \n",
    "where rnk=1;\n"
   ]
  },
  {
   "cell_type": "code",
   "execution_count": 0,
   "metadata": {
    "application/vnd.databricks.v1+cell": {
     "cellMetadata": {
      "byteLimit": 2048000,
      "implicitDf": true,
      "rowLimit": 10000
     },
     "inputWidgets": {},
     "nuid": "9281d2ae-c22d-4e13-866c-47bc5182397f",
     "showTitle": false,
     "tableResultSettingsMap": {},
     "title": ""
    }
   },
   "outputs": [],
   "source": [
    "%sql\n",
    "CREATE TABLE gizmobox.bronze.customers\n",
    "as \n",
    "select distinct created_timestamp as timestamp,\n",
    "customer_id,\n",
    "customer_name,\n",
    "date_of_birth::DATE as date_of_birth,\n",
    "email,\n",
    "member_since::DATE as member_since,\n",
    "telephone\n",
    " from \n",
    "(\n",
    "select *,rank() over(partition by customer_id order by created_timestamp desc) as rnk from \n",
    "gizmobox.bronze.v_customers\n",
    "where customer_id is not null\n",
    ") src \n",
    "where rnk=1;\n"
   ]
  },
  {
   "cell_type": "code",
   "execution_count": 0,
   "metadata": {
    "application/vnd.databricks.v1+cell": {
     "cellMetadata": {
      "byteLimit": 2048000,
      "implicitDf": true,
      "rowLimit": 10000
     },
     "inputWidgets": {},
     "nuid": "e095f666-155e-4d2c-a504-9baa1fe91156",
     "showTitle": false,
     "tableResultSettingsMap": {},
     "title": ""
    }
   },
   "outputs": [],
   "source": [
    "%sql\n",
    "select *,\n",
    "dense_rank() over(partition by customer_id order by created_timestamp desc) as rnk\n",
    "from gizmobox.bronze.v_customers order by customer_id asc"
   ]
  }
 ],
 "metadata": {
  "application/vnd.databricks.v1+notebook": {
   "computePreferences": {
    "hardware": {
     "accelerator": null,
     "gpuPoolId": null,
     "memory": null
    }
   },
   "dashboards": [],
   "environmentMetadata": {
    "base_environment": "",
    "environment_version": "2"
   },
   "inputWidgetPreferences": null,
   "language": "python",
   "notebookMetadata": {
    "mostRecentlyExecutedCommandWithImplicitDF": {
     "commandId": 7210023813698711,
     "dataframes": [
      "_sqldf"
     ]
    },
    "pythonIndentUnit": 4
   },
   "notebookName": "10. Transform-Customer",
   "widgets": {}
  },
  "language_info": {
   "name": "python"
  }
 },
 "nbformat": 4,
 "nbformat_minor": 0
}
