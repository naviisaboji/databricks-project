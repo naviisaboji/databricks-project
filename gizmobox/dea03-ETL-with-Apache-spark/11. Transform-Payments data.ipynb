{
 "cells": [
  {
   "cell_type": "code",
   "execution_count": 0,
   "metadata": {
    "application/vnd.databricks.v1+cell": {
     "cellMetadata": {
      "byteLimit": 2048000,
      "implicitDf": true,
      "rowLimit": 10000
     },
     "inputWidgets": {},
     "nuid": "9a244d1d-dd89-4b51-b311-abc5febe7a8f",
     "showTitle": false,
     "tableResultSettingsMap": {},
     "title": ""
    }
   },
   "outputs": [],
   "source": [
    "%sql\n",
    "\n",
    "\n",
    "select \n",
    "payment_id,\n",
    "ORDER_ID,\n",
    "CAST(date_format(PAYMENT_TIMESTAMP,'yyyy-MM-dd') as DATE) as payment_date,\n",
    "date_format(PAYMENT_TIMESTAMP,'HH:mm:ss') as payment_time,\n",
    "CASE payment_status\n",
    "when 1 then 'Success'\n",
    "when 2 then 'Pending'\n",
    "when 3 then 'Cancelled'\n",
    "when 4 then 'Failed'\n",
    "END as Payment_status,\n",
    "PAYMENT_METHOD\n",
    "from  gizmobox.bronze.payments;\n"
   ]
  },
  {
   "cell_type": "code",
   "execution_count": 0,
   "metadata": {
    "application/vnd.databricks.v1+cell": {
     "cellMetadata": {
      "byteLimit": 2048000,
      "implicitDf": true,
      "rowLimit": 10000
     },
     "inputWidgets": {},
     "nuid": "c0ebaad1-6457-495f-b058-1acc6c020fba",
     "showTitle": false,
     "tableResultSettingsMap": {},
     "title": ""
    }
   },
   "outputs": [],
   "source": [
    "%sql\n",
    "create table if not exists gizmobox.silver.payment\n",
    "as\n",
    "select \n",
    "payment_id,\n",
    "ORDER_ID,\n",
    "CAST(date_format(PAYMENT_TIMESTAMP,'yyyy-MM-dd') as DATE) as payment_date,\n",
    "date_format(PAYMENT_TIMESTAMP,'HH:mm:ss') as payment_time,\n",
    "CASE payment_status\n",
    "when 1 then 'Success'\n",
    "when 2 then 'Pending'\n",
    "when 3 then 'Cancelled'\n",
    "when 4 then 'Failed'\n",
    "END as Payment_status,\n",
    "PAYMENT_METHOD\n",
    "from  gizmobox.bronze.payments;"
   ]
  },
  {
   "cell_type": "code",
   "execution_count": 0,
   "metadata": {
    "application/vnd.databricks.v1+cell": {
     "cellMetadata": {
      "byteLimit": 2048000,
      "implicitDf": true,
      "rowLimit": 10000
     },
     "inputWidgets": {},
     "nuid": "3fa0d9a2-2841-4930-88c0-e78e037e5578",
     "showTitle": false,
     "tableResultSettingsMap": {},
     "title": ""
    }
   },
   "outputs": [],
   "source": [
    "%sql\n",
    "select * from gizmobox.silver.payment;"
   ]
  }
 ],
 "metadata": {
  "application/vnd.databricks.v1+notebook": {
   "computePreferences": {
    "hardware": {
     "accelerator": null,
     "gpuPoolId": null,
     "memory": null
    }
   },
   "dashboards": [],
   "environmentMetadata": {
    "base_environment": "",
    "environment_version": "2"
   },
   "inputWidgetPreferences": null,
   "language": "python",
   "notebookMetadata": {
    "mostRecentlyExecutedCommandWithImplicitDF": {
     "commandId": 7327250587612912,
     "dataframes": [
      "_sqldf"
     ]
    },
    "pythonIndentUnit": 4
   },
   "notebookName": "11. Transform-Payments data",
   "widgets": {}
  },
  "language_info": {
   "name": "python"
  }
 },
 "nbformat": 4,
 "nbformat_minor": 0
}
