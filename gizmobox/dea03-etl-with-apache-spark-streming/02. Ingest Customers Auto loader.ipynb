{
 "cells": [
  {
   "cell_type": "code",
   "execution_count": 0,
   "metadata": {
    "application/vnd.databricks.v1+cell": {
     "cellMetadata": {
      "byteLimit": 2048000,
      "rowLimit": 10000
     },
     "inputWidgets": {},
     "nuid": "77d66be5-d3c0-4505-95b8-6fe7c0a98bf9",
     "showTitle": false,
     "tableResultSettingsMap": {},
     "title": ""
    }
   },
   "outputs": [],
   "source": [
    "customer_df=(spark.readStream\n",
    "    .format(\"cloudFiles\")\n",
    "    .option(\"cloudFiles.format\",\"json\")\n",
    "    .option(\"cloudFiles.schemaLocation\",\"/Volumes/gizmobox/landing/operational_data/customer_autoloader/_schema\")\n",
    "    .option(\"cloudFiles.inferColumnTypes\",\"true\")\n",
    "    .load(\"/Volumes/gizmobox/landing/operational_data/customer_autoloader/\")\n",
    ")\n",
    "\n"
   ]
  },
  {
   "cell_type": "code",
   "execution_count": 0,
   "metadata": {
    "application/vnd.databricks.v1+cell": {
     "cellMetadata": {
      "byteLimit": 2048000,
      "rowLimit": 10000
     },
     "inputWidgets": {},
     "nuid": "1ecd3262-55ba-4eb7-84d1-d28e2c3e2024",
     "showTitle": false,
     "tableResultSettingsMap": {},
     "title": ""
    }
   },
   "outputs": [],
   "source": [
    "customer_df=(spark.readStream\n",
    "    .format(\"cloudFiles\")\n",
    "    .option(\"cloudFiles.format\",\"json\")\n",
    "    .option(\"cloudFiles.schemaLocation\",\"/Volumes/gizmobox/landing/operational_data/customer_autoloader/_schema\")\n",
    "    .option(\"cloudFiles.inferColumnTypes\",\"true\")\n",
    "    .option(\"cloudFiles.schemaHints\",\"date_of_birth DATE, member_since DATE,created_timestamp TIMESTAMP\")\n",
    "    .load(\"/Volumes/gizmobox/landing/operational_data/customer_autoloader/\")\n",
    ")\n",
    "\n"
   ]
  },
  {
   "cell_type": "code",
   "execution_count": 0,
   "metadata": {
    "application/vnd.databricks.v1+cell": {
     "cellMetadata": {
      "byteLimit": 2048000,
      "rowLimit": 10000
     },
     "inputWidgets": {},
     "nuid": "5b9706e7-37bc-4c7e-a286-9ef026dd2e56",
     "showTitle": false,
     "tableResultSettingsMap": {},
     "title": ""
    }
   },
   "outputs": [],
   "source": [
    "from pyspark.sql.functions import col, current_timestamp\n",
    "customer_transformed_df = (\n",
    "    customer_df.withColumn(\"file_name\", col(\"_metadata.file_name\"))\n",
    "    .withColumn(\"ingestion_date\", current_timestamp())\n",
    ")\n",
    "display(customer_transformed_df)"
   ]
  },
  {
   "cell_type": "code",
   "execution_count": 0,
   "metadata": {
    "application/vnd.databricks.v1+cell": {
     "cellMetadata": {
      "byteLimit": 2048000,
      "rowLimit": 10000
     },
     "inputWidgets": {},
     "nuid": "593b0161-e894-4604-84ea-01e1c834e9be",
     "showTitle": false,
     "tableResultSettingsMap": {},
     "title": ""
    }
   },
   "outputs": [],
   "source": [
    "streaming_query = (\n",
    "                    customer_transformed_df.writeStream\n",
    "                    .format(\"delta\")\n",
    "                    .option(\"checkpointLocation\",\"/Volumes/gizmobox/landing/operational_data/customer_autoloader/_checkpoint_stream\"\n",
    "    )\n",
    "    .toTable(\"gizmobox.bronze.customer_autoloader\")\n",
    ")"
   ]
  },
  {
   "cell_type": "code",
   "execution_count": 0,
   "metadata": {
    "application/vnd.databricks.v1+cell": {
     "cellMetadata": {
      "byteLimit": 2048000,
      "implicitDf": true,
      "rowLimit": 10000
     },
     "inputWidgets": {},
     "nuid": "ef34e4f4-67f3-4ebb-babd-ab0aaa85c1ff",
     "showTitle": false,
     "tableResultSettingsMap": {},
     "title": ""
    }
   },
   "outputs": [],
   "source": [
    "%sql\n",
    "select count(*) from gizmobox.bronze.customer_autoloader"
   ]
  },
  {
   "cell_type": "code",
   "execution_count": 0,
   "metadata": {
    "application/vnd.databricks.v1+cell": {
     "cellMetadata": {
      "byteLimit": 2048000,
      "rowLimit": 10000
     },
     "inputWidgets": {},
     "nuid": "445991b6-961c-4a8c-a557-e9f2f1fd3000",
     "showTitle": false,
     "tableResultSettingsMap": {},
     "title": ""
    }
   },
   "outputs": [],
   "source": [
    "streaming_query.stop()"
   ]
  }
 ],
 "metadata": {
  "application/vnd.databricks.v1+notebook": {
   "computePreferences": null,
   "dashboards": [],
   "environmentMetadata": {
    "base_environment": "",
    "environment_version": "2"
   },
   "inputWidgetPreferences": null,
   "language": "python",
   "notebookMetadata": {
    "mostRecentlyExecutedCommandWithImplicitDF": {
     "commandId": 800047131646145,
     "dataframes": [
      "_sqldf"
     ]
    },
    "pythonIndentUnit": 4
   },
   "notebookName": "02. Ingest Customers Auto loader",
   "widgets": {}
  },
  "language_info": {
   "name": "python"
  }
 },
 "nbformat": 4,
 "nbformat_minor": 0
}
