{
 "cells": [
  {
   "cell_type": "code",
   "execution_count": 0,
   "metadata": {
    "application/vnd.databricks.v1+cell": {
     "cellMetadata": {
      "byteLimit": 2048000,
      "rowLimit": 10000
     },
     "inputWidgets": {},
     "nuid": "65a4f33e-fe35-4f42-8e5c-2a9e9a8749ac",
     "showTitle": false,
     "tableResultSettingsMap": {},
     "title": ""
    }
   },
   "outputs": [],
   "source": [
    "from pyspark.sql.types import StructType,StructField,IntegerType,StringType,DateType,TimestampType\n",
    "\n",
    "customer_schema = StructType([\n",
    "StructField(\"customer_id\",IntegerType()),\n",
    "StructField(\"customer_name\",StringType()),\n",
    "StructField(\"date_of_birth\",DateType()),\n",
    "StructField(\"telephone\",StringType()),\n",
    "StructField(\"email\",StringType()),\n",
    "StructField(\"member_since\",DateType()),\n",
    "StructField(\"current_timestamp\",TimestampType()) \n",
    "]\n",
    ")"
   ]
  },
  {
   "cell_type": "code",
   "execution_count": 0,
   "metadata": {
    "application/vnd.databricks.v1+cell": {
     "cellMetadata": {
      "byteLimit": 2048000,
      "rowLimit": 10000
     },
     "inputWidgets": {},
     "nuid": "77d66be5-d3c0-4505-95b8-6fe7c0a98bf9",
     "showTitle": false,
     "tableResultSettingsMap": {},
     "title": ""
    }
   },
   "outputs": [],
   "source": [
    "customer_df=(spark.readStream.\n",
    "    format(\"json\")\n",
    "    .schema(customer_schema)\n",
    "    .load(\"/Volumes/gizmobox/landing/operational_data/customer_stream/\"))\n",
    "display(customer_df)\n"
   ]
  },
  {
   "cell_type": "code",
   "execution_count": 0,
   "metadata": {
    "application/vnd.databricks.v1+cell": {
     "cellMetadata": {
      "byteLimit": 2048000,
      "rowLimit": 10000
     },
     "inputWidgets": {},
     "nuid": "5b9706e7-37bc-4c7e-a286-9ef026dd2e56",
     "showTitle": false,
     "tableResultSettingsMap": {},
     "title": ""
    }
   },
   "outputs": [],
   "source": [
    "from pyspark.sql.functions import col, current_timestamp\n",
    "customer_df=(spark.readStream.\n",
    "    format(\"json\")\n",
    "    .schema(customer_schema)\n",
    "    .load(\"/Volumes/gizmobox/landing/operational_data/customer_stream/\"))\n",
    "customer_transformed_df = (\n",
    "    customer_df.withColumn(\"file_name\", col(\"_metadata.file_name\"))\n",
    "    .withColumn(\"ingestion_date\", current_timestamp())\n",
    ")\n",
    "display(customer_transformed_df)"
   ]
  },
  {
   "cell_type": "code",
   "execution_count": 0,
   "metadata": {
    "application/vnd.databricks.v1+cell": {
     "cellMetadata": {
      "byteLimit": 2048000,
      "rowLimit": 10000
     },
     "inputWidgets": {},
     "nuid": "593b0161-e894-4604-84ea-01e1c834e9be",
     "showTitle": false,
     "tableResultSettingsMap": {},
     "title": ""
    }
   },
   "outputs": [],
   "source": [
    "streaming_query = (\n",
    "                    customer_transformed_df.writeStream\n",
    "                    .format(\"delta\")\n",
    "                    .option(\"checkpointLocation\",\"/Volumes/gizmobox/landing/operational_data/customer_stream/_checkpoint_stream\"\n",
    "    )\n",
    "    .toTable(\"gizmobox.bronze.customer_stream\")\n",
    ")"
   ]
  },
  {
   "cell_type": "code",
   "execution_count": 0,
   "metadata": {
    "application/vnd.databricks.v1+cell": {
     "cellMetadata": {
      "byteLimit": 2048000,
      "implicitDf": true,
      "rowLimit": 10000
     },
     "inputWidgets": {},
     "nuid": "ef34e4f4-67f3-4ebb-babd-ab0aaa85c1ff",
     "showTitle": false,
     "tableResultSettingsMap": {},
     "title": ""
    }
   },
   "outputs": [],
   "source": [
    "%sql\n",
    "select count(*) from gizmobox.bronze.customer_stream"
   ]
  },
  {
   "cell_type": "code",
   "execution_count": 0,
   "metadata": {
    "application/vnd.databricks.v1+cell": {
     "cellMetadata": {
      "byteLimit": 2048000,
      "rowLimit": 10000
     },
     "inputWidgets": {},
     "nuid": "445991b6-961c-4a8c-a557-e9f2f1fd3000",
     "showTitle": false,
     "tableResultSettingsMap": {},
     "title": ""
    }
   },
   "outputs": [],
   "source": [
    "streaming_query.stop()"
   ]
  }
 ],
 "metadata": {
  "application/vnd.databricks.v1+notebook": {
   "computePreferences": null,
   "dashboards": [],
   "environmentMetadata": {
    "base_environment": "",
    "environment_version": "2"
   },
   "inputWidgetPreferences": null,
   "language": "python",
   "notebookMetadata": {
    "mostRecentlyExecutedCommandWithImplicitDF": {
     "commandId": 6583039741964571,
     "dataframes": [
      "_sqldf"
     ]
    },
    "pythonIndentUnit": 4
   },
   "notebookName": "01. Ingest Customers Stream",
   "widgets": {}
  },
  "language_info": {
   "name": "python"
  }
 },
 "nbformat": 4,
 "nbformat_minor": 0
}
